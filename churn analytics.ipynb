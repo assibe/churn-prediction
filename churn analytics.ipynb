{
 "cells": [
  {
   "cell_type": "markdown",
   "metadata": {},
   "source": [
    "# Description"
   ]
  },
  {
   "cell_type": "markdown",
   "metadata": {},
   "source": [
    "This Spark program performs churn prediction using two classification models, namely Random Forest and Logistic Regression prediction models."
   ]
  },
  {
   "cell_type": "markdown",
   "metadata": {},
   "source": [
    "## Import libraries"
   ]
  },
  {
   "cell_type": "code",
   "execution_count": 39,
   "metadata": {
    "collapsed": false
   },
   "outputs": [],
   "source": [
    "import pandas as pd\n",
    "from pyspark.ml import Pipeline\n",
    "from pyspark.ml.classification import RandomForestClassifier, LogisticRegression\n",
    "from pyspark.ml.feature import StringIndexer, VectorAssembler\n",
    "from pyspark.ml.tuning import ParamGridBuilder\n",
    "from pyspark.ml.tuning import CrossValidator\n",
    "from pyspark.ml.evaluation import BinaryClassificationEvaluator\n",
    "from functools import reduce \n",
    "\n",
    "from pyspark.sql.types import IntegerType, StringType, DoubleType, StructType, StructField\n",
    "from pyspark.sql.functions import udf, col\n",
    "\n",
    "import matplotlib.pyplot as plt\n",
    "import seaborn as sns\n",
    "sns.set(style=\"whitegrid\", color_codes=True)\n",
    "\n",
    "%matplotlib inline"
   ]
  },
  {
   "cell_type": "markdown",
   "metadata": {},
   "source": [
    "## Import data"
   ]
  },
  {
   "cell_type": "code",
   "execution_count": 3,
   "metadata": {
    "collapsed": false
   },
   "outputs": [],
   "source": [
    "schemaData = StructType([StructField('AccountLength', IntegerType(), True),\n",
    "                     StructField('VMailMessage', IntegerType(), True),\n",
    "                     StructField('DayMins', DoubleType(), True),\n",
    "                     StructField('EveMins', DoubleType(), True),\n",
    "                     StructField('NightMins', DoubleType(), True),\n",
    "                     StructField('IntlMins', DoubleType(), True),\n",
    "                       StructField('CustServCalls', IntegerType(), True),\n",
    "                       StructField('Churn', IntegerType(), True),\n",
    "                       StructField('IntlPlan', IntegerType(), True),\n",
    "                        StructField('VMailPlan', IntegerType(), True),\n",
    "                        StructField('DayCalls', IntegerType(), True),\n",
    "                        StructField('DayCharge', DoubleType(), True),\n",
    "                        StructField('EveCalls', IntegerType(), True),\n",
    "                        StructField('EveCharge', DoubleType(), True),\n",
    "                        StructField('NightCalls', IntegerType(), True),\n",
    "                        StructField('NightCharge', DoubleType(), True),\n",
    "                        StructField('IntlCalls', IntegerType(), True),\n",
    "                        StructField('IntlCharge', DoubleType(), True),\n",
    "                        StructField('State', StringType(), True),\n",
    "                        StructField('AreaCode', IntegerType(), True),\n",
    "                        StructField('Phone', StringType(), True)])"
   ]
  },
  {
   "cell_type": "code",
   "execution_count": 4,
   "metadata": {
    "collapsed": false
   },
   "outputs": [],
   "source": [
    "data = sqlContext.read.load('/user/ebisa/Churn.csv', \n",
    "                          delimiter=';',\n",
    "                          format='com.databricks.spark.csv', \n",
    "                          header='true', \n",
    "                          schema=schemaData,\n",
    "                           inferSchema='false')"
   ]
  },
  {
   "cell_type": "markdown",
   "metadata": {},
   "source": [
    "### Distribution of the churn"
   ]
  },
  {
   "cell_type": "markdown",
   "metadata": {},
   "source": [
    "As can be seen below, the data is skewed in terms of the number of churning and non-churning customers"
   ]
  },
  {
   "cell_type": "code",
   "execution_count": 5,
   "metadata": {
    "collapsed": false
   },
   "outputs": [
    {
     "name": "stdout",
     "output_type": "stream",
     "text": [
      "CPU times: user 6 ms, sys: 10 ms, total: 16 ms\n",
      "Wall time: 4.49 s\n"
     ]
    },
    {
     "data": {
      "text/html": [
       "<div>\n",
       "<table border=\"1\" class=\"dataframe\">\n",
       "  <thead>\n",
       "    <tr style=\"text-align: right;\">\n",
       "      <th></th>\n",
       "      <th>Churn</th>\n",
       "      <th>count</th>\n",
       "      <th>percentage</th>\n",
       "    </tr>\n",
       "  </thead>\n",
       "  <tbody>\n",
       "    <tr>\n",
       "      <th>0</th>\n",
       "      <td>0</td>\n",
       "      <td>2850</td>\n",
       "      <td>85.508551</td>\n",
       "    </tr>\n",
       "    <tr>\n",
       "      <th>1</th>\n",
       "      <td>1</td>\n",
       "      <td>483</td>\n",
       "      <td>14.491449</td>\n",
       "    </tr>\n",
       "  </tbody>\n",
       "</table>\n",
       "</div>"
      ],
      "text/plain": [
       "   Churn  count  percentage\n",
       "0      0   2850   85.508551\n",
       "1      1    483   14.491449"
      ]
     },
     "execution_count": 5,
     "metadata": {},
     "output_type": "execute_result"
    }
   ],
   "source": [
    "numbRecords = data.count()\n",
    "%time churnDist = data.groupBy('Churn').count().toPandas()\n",
    "churnDist['percentage'] = 100*churnDist['count']/numbRecords\n",
    "churnDist"
   ]
  },
  {
   "cell_type": "markdown",
   "metadata": {},
   "source": [
    "### Distribution of some of the features"
   ]
  },
  {
   "cell_type": "markdown",
   "metadata": {},
   "source": [
    "#### Distribution of AccountLength, which is the number of days the account has been a customer"
   ]
  },
  {
   "cell_type": "code",
   "execution_count": 6,
   "metadata": {
    "collapsed": false,
    "scrolled": true
   },
   "outputs": [
    {
     "name": "stdout",
     "output_type": "stream",
     "text": [
      "+-------+------------------+\n",
      "|summary|     AccountLength|\n",
      "+-------+------------------+\n",
      "|  count|              3333|\n",
      "|   mean|101.06480648064806|\n",
      "| stddev|39.822105928595604|\n",
      "|    min|                 1|\n",
      "|    max|               243|\n",
      "+-------+------------------+\n",
      "\n"
     ]
    }
   ],
   "source": [
    "data.describe('AccountLength').show()"
   ]
  },
  {
   "cell_type": "code",
   "execution_count": 7,
   "metadata": {
    "collapsed": false
   },
   "outputs": [
    {
     "name": "stdout",
     "output_type": "stream",
     "text": [
      "Average AccountLength = 3 months and 11 days\n",
      "Maximum AccountLength = 8 months and 3 days\n"
     ]
    }
   ],
   "source": [
    "al = data.describe('AccountLength').rdd.collectAsMap()\n",
    "print('Average AccountLength = %d months and %d days' % (int(float(al['mean'])/30), int(float(al['mean']))%30) )\n",
    "print('Maximum AccountLength = %d months and %d days' % (int(float(al['max'])/30), int(float(al['max']))%30) )"
   ]
  },
  {
   "cell_type": "markdown",
   "metadata": {},
   "source": [
    "#### The distribution of the DayMins which represents the total day-time call duration in minutes. "
   ]
  },
  {
   "cell_type": "code",
   "execution_count": 8,
   "metadata": {
    "collapsed": false
   },
   "outputs": [
    {
     "name": "stdout",
     "output_type": "stream",
     "text": [
      "+-------+------------------+\n",
      "|summary|           DayMins|\n",
      "+-------+------------------+\n",
      "|  count|              3333|\n",
      "|   mean|179.77509750975088|\n",
      "| stddev| 54.46738920237139|\n",
      "|    min|               0.0|\n",
      "|    max|             350.8|\n",
      "+-------+------------------+\n",
      "\n"
     ]
    }
   ],
   "source": [
    "data.describe('DayMins').show()"
   ]
  },
  {
   "cell_type": "code",
   "execution_count": 9,
   "metadata": {
    "collapsed": false
   },
   "outputs": [
    {
     "name": "stdout",
     "output_type": "stream",
     "text": [
      "Average DayMins = 2 hours and 59 minutes\n",
      "Maximum DayMins = 11 hours and 50 minutes\n"
     ]
    }
   ],
   "source": [
    "dm = data.describe('DayMins').rdd.collectAsMap()\n",
    "print('Average DayMins = %d hours and %d minutes' % (int(float(dm['mean'])/60), int(float(dm['mean']))%60) )\n",
    "print('Maximum DayMins = %d hours and %d minutes' % (int(float(dm['max'])/30), int(float(dm['max']))%60) )"
   ]
  },
  {
   "cell_type": "markdown",
   "metadata": {},
   "source": [
    "#### Number of distinct states"
   ]
  },
  {
   "cell_type": "code",
   "execution_count": 10,
   "metadata": {
    "collapsed": false
   },
   "outputs": [
    {
     "data": {
      "text/plain": [
       "51"
      ]
     },
     "execution_count": 10,
     "metadata": {},
     "output_type": "execute_result"
    }
   ],
   "source": [
    "data.select('State').distinct().count()"
   ]
  },
  {
   "cell_type": "markdown",
   "metadata": {},
   "source": [
    "### Visualization of some of the features against the churn "
   ]
  },
  {
   "cell_type": "code",
   "execution_count": 11,
   "metadata": {
    "collapsed": true
   },
   "outputs": [],
   "source": [
    "dataPD = data.toPandas()"
   ]
  },
  {
   "cell_type": "markdown",
   "metadata": {},
   "source": [
    "#### The distribution of DayMins against DayCharge"
   ]
  },
  {
   "cell_type": "markdown",
   "metadata": {},
   "source": [
    "Below, we can observe that the call duration and the call charge are linearly related, as expected."
   ]
  },
  {
   "cell_type": "code",
   "execution_count": 12,
   "metadata": {
    "collapsed": false
   },
   "outputs": [
    {
     "data": {
      "text/plain": [
       "<seaborn.axisgrid.FacetGrid at 0x7f31cef8ed10>"
      ]
     },
     "execution_count": 12,
     "metadata": {},
     "output_type": "execute_result"
    },
    {
     "data": {
      "image/png": "[encoded data removed]",
      "text/plain": [
       "<matplotlib.figure.Figure at 0x7f31cef8efd0>"
      ]
     },
     "metadata": {},
     "output_type": "display_data"
    }
   ],
   "source": [
    "sns.lmplot('DayMins', 'DayCharge', \n",
    "           data=dataPD, \n",
    "           fit_reg=False, \n",
    "           hue=\"Churn\",  \n",
    "           scatter_kws={\"marker\": \"D\", \"s\": 100})"
   ]
  },
  {
   "cell_type": "markdown",
   "metadata": {},
   "source": [
    "#### As shown below, the ranges of DayMins of both the churning and non-churning groups overlap."
   ]
  },
  {
   "cell_type": "code",
   "execution_count": 13,
   "metadata": {
    "collapsed": false
   },
   "outputs": [
    {
     "data": {
      "text/plain": [
       "<seaborn.axisgrid.FacetGrid at 0x7f31ceccc790>"
      ]
     },
     "execution_count": 13,
     "metadata": {},
     "output_type": "execute_result"
    },
    {
     "data": {
      "image/png": "[encoded data removed]",
      "text/plain": [
       "<matplotlib.figure.Figure at 0x7f31cedd54d0>"
      ]
     },
     "metadata": {},
     "output_type": "display_data"
    }
   ],
   "source": [
    "sns.lmplot('Churn', 'DayMins', \n",
    "           data=dataPD, \n",
    "           fit_reg=False, \n",
    "           hue=\"Churn\",  \n",
    "           scatter_kws={\"marker\": \"D\", \"s\": 100})"
   ]
  },
  {
   "cell_type": "markdown",
   "metadata": {},
   "source": [
    "#### The ranges of AccountLengrth also overlap for the two classes"
   ]
  },
  {
   "cell_type": "code",
   "execution_count": 14,
   "metadata": {
    "collapsed": false
   },
   "outputs": [
    {
     "data": {
      "text/plain": [
       "<seaborn.axisgrid.FacetGrid at 0x7f31cedf99d0>"
      ]
     },
     "execution_count": 14,
     "metadata": {},
     "output_type": "execute_result"
    },
    {
     "data": {
      "image/png": "[encoded data removed]",
      "text/plain": [
       "<matplotlib.figure.Figure at 0x7f31cb864050>"
      ]
     },
     "metadata": {},
     "output_type": "display_data"
    }
   ],
   "source": [
    "sns.lmplot('Churn', 'AccountLength',  \n",
    "           data=dataPD, \n",
    "           fit_reg=False, \n",
    "           hue=\"Churn\",  \n",
    "           scatter_kws={\"marker\": \"D\", \"s\": 100})"
   ]
  },
  {
   "cell_type": "markdown",
   "metadata": {},
   "source": [
    "## Compute relevant features"
   ]
  },
  {
   "cell_type": "markdown",
   "metadata": {},
   "source": [
    "Here we compute new features that represent per-minute call rates for the three periods: day, evening, and night"
   ]
  },
  {
   "cell_type": "code",
   "execution_count": 15,
   "metadata": {
    "collapsed": false
   },
   "outputs": [],
   "source": [
    "def takeRatio(a,b):\n",
    "    if (b>0):\n",
    "        return float(a)/b\n",
    "    else:\n",
    "        return a\n",
    "computeRatio = udf(takeRatio, DoubleType())"
   ]
  },
  {
   "cell_type": "code",
   "execution_count": 16,
   "metadata": {
    "collapsed": true
   },
   "outputs": [],
   "source": [
    "data = data.withColumn('dayRate', computeRatio(data.DayCharge, data.DayMins))\\\n",
    "            .withColumn('eveRate', computeRatio(data.EveCharge, data.EveMins))\\\n",
    "            .withColumn('nightRate', computeRatio(data.NightCharge, data.NightMins))\\\n",
    "            .withColumn('intlRate', computeRatio(data.IntlCharge, data.IntlMins))"
   ]
  },
  {
   "cell_type": "code",
   "execution_count": 17,
   "metadata": {
    "collapsed": false
   },
   "outputs": [
    {
     "name": "stdout",
     "output_type": "stream",
     "text": [
      "+-------+--------------------+\n",
      "|summary|             dayRate|\n",
      "+-------+--------------------+\n",
      "|  count|                3333|\n",
      "|   mean| 0.16990122219978002|\n",
      "| stddev|0.004163887265810569|\n",
      "|    min|                 0.0|\n",
      "|    max| 0.17051282051282052|\n",
      "+-------+--------------------+\n",
      "\n"
     ]
    }
   ],
   "source": [
    "data.describe('dayRate').show()"
   ]
  },
  {
   "cell_type": "markdown",
   "metadata": {},
   "source": [
    "## Transform categorical columns into labeled indices"
   ]
  },
  {
   "cell_type": "code",
   "execution_count": 18,
   "metadata": {
    "collapsed": true
   },
   "outputs": [],
   "source": [
    "si_label = StringIndexer(inputCol=\"Churn\", outputCol=\"label\", handleInvalid=\"skip\")\n",
    "si_intPlan = StringIndexer(inputCol=\"IntlPlan\", outputCol=\"IP\", handleInvalid=\"skip\")\n",
    "si_vmailPlan = StringIndexer(inputCol=\"VMailPlan\", outputCol=\"VP\", handleInvalid=\"skip\")\n",
    "si_State = StringIndexer(inputCol=\"State\", outputCol=\"ST\", handleInvalid=\"skip\")\n",
    "pipeline = Pipeline(stages=[si_label, si_intPlan, si_vmailPlan, si_State])"
   ]
  },
  {
   "cell_type": "code",
   "execution_count": 19,
   "metadata": {
    "collapsed": true
   },
   "outputs": [],
   "source": [
    "stringIndexedData = pipeline.fit(data).transform(data)"
   ]
  },
  {
   "cell_type": "markdown",
   "metadata": {},
   "source": [
    "## Make a vector of columns of the features used in prediction"
   ]
  },
  {
   "cell_type": "code",
   "execution_count": 20,
   "metadata": {
    "collapsed": true
   },
   "outputs": [],
   "source": [
    "excludedFeatures = ['Churn', \"IntlPlan\", \"VMailPlan\", \"State\", \"AreaCode\", \"Phone\"]\n",
    "features = [x for x in data.columns if x not in excludedFeatures]"
   ]
  },
  {
   "cell_type": "code",
   "execution_count": 21,
   "metadata": {
    "collapsed": false
   },
   "outputs": [],
   "source": [
    "vecAssembler = VectorAssembler(inputCols=features, outputCol=\"features\")\n",
    "featureAssembled = vecAssembler.transform(stringIndexedData)"
   ]
  },
  {
   "cell_type": "markdown",
   "metadata": {},
   "source": [
    "## Divide the data into training and test sets"
   ]
  },
  {
   "cell_type": "code",
   "execution_count": 22,
   "metadata": {
    "collapsed": true
   },
   "outputs": [],
   "source": [
    "(train, test) = featureAssembled.randomSplit([0.8, 0.2])"
   ]
  },
  {
   "cell_type": "code",
   "execution_count": 23,
   "metadata": {
    "collapsed": false
   },
   "outputs": [
    {
     "data": {
      "text/html": [
       "<div>\n",
       "<table border=\"1\" class=\"dataframe\">\n",
       "  <thead>\n",
       "    <tr style=\"text-align: right;\">\n",
       "      <th></th>\n",
       "      <th>Churn</th>\n",
       "      <th>count</th>\n",
       "    </tr>\n",
       "  </thead>\n",
       "  <tbody>\n",
       "    <tr>\n",
       "      <th>0</th>\n",
       "      <td>0</td>\n",
       "      <td>2234</td>\n",
       "    </tr>\n",
       "    <tr>\n",
       "      <th>1</th>\n",
       "      <td>1</td>\n",
       "      <td>386</td>\n",
       "    </tr>\n",
       "  </tbody>\n",
       "</table>\n",
       "</div>"
      ],
      "text/plain": [
       "   Churn  count\n",
       "0      0   2234\n",
       "1      1    386"
      ]
     },
     "execution_count": 23,
     "metadata": {},
     "output_type": "execute_result"
    }
   ],
   "source": [
    "train.groupBy('Churn').count().toPandas().head()"
   ]
  },
  {
   "cell_type": "code",
   "execution_count": 24,
   "metadata": {
    "collapsed": false
   },
   "outputs": [
    {
     "data": {
      "text/html": [
       "<div>\n",
       "<table border=\"1\" class=\"dataframe\">\n",
       "  <thead>\n",
       "    <tr style=\"text-align: right;\">\n",
       "      <th></th>\n",
       "      <th>Churn</th>\n",
       "      <th>count</th>\n",
       "    </tr>\n",
       "  </thead>\n",
       "  <tbody>\n",
       "    <tr>\n",
       "      <th>0</th>\n",
       "      <td>0</td>\n",
       "      <td>616</td>\n",
       "    </tr>\n",
       "    <tr>\n",
       "      <th>1</th>\n",
       "      <td>1</td>\n",
       "      <td>97</td>\n",
       "    </tr>\n",
       "  </tbody>\n",
       "</table>\n",
       "</div>"
      ],
      "text/plain": [
       "   Churn  count\n",
       "0      0    616\n",
       "1      1     97"
      ]
     },
     "execution_count": 24,
     "metadata": {},
     "output_type": "execute_result"
    }
   ],
   "source": [
    "test.groupBy('Churn').count().toPandas().head()"
   ]
  },
  {
   "cell_type": "markdown",
   "metadata": {},
   "source": [
    "## Compensate for the data imbalance between churning and non-churnnig users"
   ]
  },
  {
   "cell_type": "code",
   "execution_count": 25,
   "metadata": {
    "collapsed": true
   },
   "outputs": [],
   "source": [
    "def unionAll(*dfs):\n",
    "    return reduce(DataFrame.unionAll, dfs)"
   ]
  },
  {
   "cell_type": "code",
   "execution_count": 26,
   "metadata": {
    "collapsed": true
   },
   "outputs": [],
   "source": [
    "ratio = train.where(train.Churn == 0).count()/train.where(train.Churn == 1).count()\n",
    "train_1 = train.where(train.Churn == 1)"
   ]
  },
  {
   "cell_type": "code",
   "execution_count": 27,
   "metadata": {
    "collapsed": true
   },
   "outputs": [],
   "source": [
    "# append train_1 onto train ratio-1 times to balance between churned and non-churned data\n",
    "for i in range(0, ratio - 1):\n",
    "    train = train.unionAll(train_1)"
   ]
  },
  {
   "cell_type": "markdown",
   "metadata": {},
   "source": [
    "## Build two predictive models and perform cross validation and grid search of parameters for each"
   ]
  },
  {
   "cell_type": "markdown",
   "metadata": {},
   "source": [
    "Random forest and Logistic regression models are used."
   ]
  },
  {
   "cell_type": "code",
   "execution_count": 40,
   "metadata": {
    "collapsed": true
   },
   "outputs": [],
   "source": [
    "rf = RandomForestClassifier(labelCol=\"label\", featuresCol=\"features\", numTrees=3, maxDepth=4, maxBins=200)\n",
    "lr = LogisticRegression(maxIter=20, regParam=0.2, elasticNetParam=0.7)"
   ]
  },
  {
   "cell_type": "markdown",
   "metadata": {},
   "source": [
    "#### Define the grid search parameter values"
   ]
  },
  {
   "cell_type": "code",
   "execution_count": 53,
   "metadata": {
    "collapsed": true
   },
   "outputs": [],
   "source": [
    "grid_rf = ParamGridBuilder().addGrid(rf.numTrees, [2, 5, 10])\\\n",
    "                         .addGrid(rf.maxDepth, [2, 5, 10])\\\n",
    "                         .build()\n",
    "grid_lr = ParamGridBuilder().addGrid(lr.regParam, [0.2, 0.4, 0.8])\\\n",
    "                         .addGrid(lr.elasticNetParam, [0.2, 0.4, 0.8])\\\n",
    "                         .build()"
   ]
  },
  {
   "cell_type": "markdown",
   "metadata": {},
   "source": [
    "#### Define the evaluator"
   ]
  },
  {
   "cell_type": "code",
   "execution_count": 54,
   "metadata": {
    "collapsed": true
   },
   "outputs": [],
   "source": [
    "evaluator = BinaryClassificationEvaluator()"
   ]
  },
  {
   "cell_type": "markdown",
   "metadata": {},
   "source": [
    "#### Define the cross-validation"
   ]
  },
  {
   "cell_type": "markdown",
   "metadata": {},
   "source": [
    "Cross validation is performed to limit overfitting to the training set, give an insight on how the model will generalize to an independent test set."
   ]
  },
  {
   "cell_type": "code",
   "execution_count": 55,
   "metadata": {
    "collapsed": false
   },
   "outputs": [],
   "source": [
    "#perform a cross validator\n",
    "cv_rf = CrossValidator(estimator=rf, estimatorParamMaps=grid_rf, evaluator=evaluator)\n",
    "cv_lr = CrossValidator(estimator=lr, estimatorParamMaps=grid_lr, evaluator=evaluator)"
   ]
  },
  {
   "cell_type": "markdown",
   "metadata": {},
   "source": [
    "#### Train the two models on the training set"
   ]
  },
  {
   "cell_type": "code",
   "execution_count": 56,
   "metadata": {
    "collapsed": true
   },
   "outputs": [],
   "source": [
    "model_rf = cv_rf.fit(train)\n",
    "model_lr = cv_lr.fit(train)"
   ]
  },
  {
   "cell_type": "markdown",
   "metadata": {},
   "source": [
    "#### Predict on the test set"
   ]
  },
  {
   "cell_type": "code",
   "execution_count": 57,
   "metadata": {
    "collapsed": true
   },
   "outputs": [],
   "source": [
    "test_rf = model_rf.transform(test)\n",
    "test_lr = model_lr.transform(test)"
   ]
  },
  {
   "cell_type": "markdown",
   "metadata": {},
   "source": [
    "### Evaluate the performance of the model on the test data using both area under ROC and area under PR"
   ]
  },
  {
   "cell_type": "markdown",
   "metadata": {},
   "source": [
    "As can be seen, the Random Forest model is out performing the Logistic Regression model on both performance measures."
   ]
  },
  {
   "cell_type": "code",
   "execution_count": 62,
   "metadata": {
    "collapsed": false
   },
   "outputs": [
    {
     "name": "stdout",
     "output_type": "stream",
     "text": [
      "Random Forest: Area under ROC = 0.824031\n",
      "Logistic Regression: Area under ROC = 0.732494\n",
      "Random Forest: Area under PR = 0.632395\n",
      "Logistic Regression: Area under PR = 0.284988\n"
     ]
    }
   ],
   "source": [
    "print(\"Random Forest: Area under ROC = %f\" % evaluator.evaluate(test_rf,  {evaluator.metricName: \"areaUnderROC\"}))\n",
    "print(\"Logistic Regression: Area under ROC = %f\" % evaluator.evaluate(test_lr ,{evaluator.metricName: \"areaUnderROC\"}))\n",
    "print(\"Random Forest: Area under PR = %f\" % evaluator.evaluate(test_rf, {evaluator.metricName: \"areaUnderPR\"}))\n",
    "print(\"Logistic Regression: Area under PR = %f\" % evaluator.evaluate(test_lr, {evaluator.metricName: \"areaUnderPR\"}))"
   ]
  }
 ],
 "metadata": {
  "kernelspec": {
   "display_name": "Python 2",
   "language": "python",
   "name": "python2"
  },
  "language_info": {
   "codemirror_mode": {
    "name": "ipython",
    "version": 2
   },
   "file_extension": ".py",
   "mimetype": "text/x-python",
   "name": "python",
   "nbconvert_exporter": "python",
   "pygments_lexer": "ipython2",
   "version": "2.7.8"
  }
 },
 "nbformat": 4,
 "nbformat_minor": 0
}
